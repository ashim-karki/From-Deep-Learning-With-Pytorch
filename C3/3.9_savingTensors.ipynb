{
 "cells": [
  {
   "cell_type": "markdown",
   "metadata": {},
   "source": [
    "### In[0]:\n",
    "torch.save(points, '../data/p1ch3/ourpoints.t')\n",
    "- As an alternative, we can pass a file descriptor in lieu of the filename:\n",
    "### In[1]:\n",
    "with open('../data/p1ch3/ourpoints.t','wb') as f:\n",
    "    torch.save(points, f)\n",
    "- Loading our points back is similarly a one-liner\n",
    "### In[2]:\n",
    "points = torch.load('../data/p1ch3/ourpoints.t')\n",
    "### In[3]:\n",
    "with open('../data/p1ch3/ourpoints.t','rb') as f:\n",
    "    points = torch.load(f)  "
   ]
  },
  {
   "cell_type": "markdown",
   "metadata": {},
   "source": []
  }
 ],
 "metadata": {
  "language_info": {
   "name": "python"
  }
 },
 "nbformat": 4,
 "nbformat_minor": 2
}
